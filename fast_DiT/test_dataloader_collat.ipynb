{
 "cells": [
  {
   "cell_type": "code",
   "execution_count": 14,
   "metadata": {},
   "outputs": [],
   "source": [
    "from preprocess_old.iterators import ImageNetLatentIterator\n",
    "from torch.utils.data import DataLoader\n",
    "import numpy as np"
   ]
  },
  {
   "cell_type": "code",
   "execution_count": 24,
   "metadata": {},
   "outputs": [],
   "source": [
    "def custom_collate(batch):\n",
    "    print(\"custom_collate\")\n",
    "    print(f'shape: {len(batch)}')\n",
    "    for i, data in enumerate(batch):\n",
    "        print(type(data))\n",
    "    return batch"
   ]
  },
  {
   "cell_type": "code",
   "execution_count": 25,
   "metadata": {},
   "outputs": [],
   "source": [
    "dataset = ImageNetLatentIterator({\n",
    "    \"latent_folder\": '/Users/julianlink/Documents/Uni/4. Semester/GSU/GSU/latent_old',\n",
    "    \"sample_size\": 256,\n",
    "    \"patch_size\": 2,\n",
    "    \"vae_scale\": 8,\n",
    "    \"C\": 4,\n",
    "    \"embed_dim\": 16,\n",
    "    \"embed_method\": \"rotate\"\n",
    "})\n",
    "loader = DataLoader(\n",
    "    dataset,\n",
    "    collate_fn=custom_collate,\n",
    "    batch_size=4,\n",
    "    shuffle=True,\n",
    "    drop_last=True\n",
    ")"
   ]
  },
  {
   "cell_type": "code",
   "execution_count": 26,
   "metadata": {},
   "outputs": [
    {
     "name": "stdout",
     "output_type": "stream",
     "text": [
      "custom_collate\n",
      "shape: 4\n",
      "<class 'tuple'>\n",
      "<class 'tuple'>\n",
      "<class 'tuple'>\n",
      "<class 'tuple'>\n",
      "Iteration 1\n",
      "custom_collate\n",
      "shape: 4\n",
      "<class 'tuple'>\n",
      "<class 'tuple'>\n",
      "<class 'tuple'>\n",
      "<class 'tuple'>\n",
      "Iteration 2\n",
      "custom_collate\n",
      "shape: 4\n",
      "<class 'tuple'>\n",
      "<class 'tuple'>\n",
      "<class 'tuple'>\n",
      "<class 'tuple'>\n"
     ]
    }
   ],
   "source": [
    "for i, batch in enumerate(loader):\n",
    "    if i >= 2:\n",
    "        break\n",
    "    print(f\"Iteration {i+1}\")\n"
   ]
  },
  {
   "cell_type": "code",
   "execution_count": null,
   "metadata": {},
   "outputs": [],
   "source": []
  }
 ],
 "metadata": {
  "kernelspec": {
   "display_name": "general",
   "language": "python",
   "name": "python3"
  },
  "language_info": {
   "codemirror_mode": {
    "name": "ipython",
    "version": 3
   },
   "file_extension": ".py",
   "mimetype": "text/x-python",
   "name": "python",
   "nbconvert_exporter": "python",
   "pygments_lexer": "ipython3",
   "version": "3.10.11"
  }
 },
 "nbformat": 4,
 "nbformat_minor": 2
}
