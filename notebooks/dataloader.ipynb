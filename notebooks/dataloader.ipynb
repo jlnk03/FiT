{
 "cells": [
  {
   "cell_type": "code",
   "execution_count": 8,
   "metadata": {},
   "outputs": [
    {
     "name": "stdout",
     "output_type": "stream",
     "text": [
      "The autoreload extension is already loaded. To reload it, use:\n",
      "  %reload_ext autoreload\n"
     ]
    }
   ],
   "source": [
    "import sys\n",
    "sys.path.append('../fast_DiT')\n",
    "\n",
    "from iterators import ImageNetLatentIterator\n",
    "from torch.utils.data import Dataset, DataLoader\n",
    "import torch\n",
    "\n",
    "%load_ext autoreload\n",
    "%autoreload 2"
   ]
  },
  {
   "cell_type": "code",
   "execution_count": 9,
   "metadata": {},
   "outputs": [],
   "source": [
    "dataset = ImageNetLatentIterator({\n",
    "    \"latent_folder\": '../dataset/imagenet/n01440764',  # 'latent_two' is the folder containing the latent features\n",
    "    \"sample_size\": 256,\n",
    "    \"patch_size\": 2,\n",
    "    \"vae_scale\": 8,\n",
    "    \"C\": 4,\n",
    "    \"embed_dim\": 16,\n",
    "    \"embed_method\": \"rotate\"\n",
    "})\n",
    "\n",
    "loader = DataLoader(\n",
    "    dataset,\n",
    "    batch_size=12,\n",
    "    shuffle=True,\n",
    "    num_workers=0,\n",
    "    pin_memory=True,\n",
    "    drop_last=True\n",
    ")"
   ]
  },
  {
   "cell_type": "code",
   "execution_count": 12,
   "metadata": {},
   "outputs": [
    {
     "name": "stdout",
     "output_type": "stream",
     "text": [
      "torch.Size([256, 16]) torch.Size([]) torch.Size([256, 16]) torch.Size([256])\n",
      "torch.Size([256, 16]) torch.Size([]) torch.Size([256, 16]) torch.Size([256])\n",
      "torch.Size([256, 16]) torch.Size([]) torch.Size([256, 16]) torch.Size([256])\n",
      "torch.Size([256, 16]) torch.Size([]) torch.Size([256, 16]) torch.Size([256])\n",
      "torch.Size([256, 16]) torch.Size([]) torch.Size([256, 16]) torch.Size([256])\n",
      "torch.Size([256, 16]) torch.Size([]) torch.Size([256, 16]) torch.Size([256])\n",
      "torch.Size([256, 16]) torch.Size([]) torch.Size([256, 16]) torch.Size([256])\n",
      "torch.Size([256, 16]) torch.Size([]) torch.Size([256, 16]) torch.Size([256])\n",
      "torch.Size([256, 16]) torch.Size([]) torch.Size([256, 16]) torch.Size([256])\n",
      "torch.Size([256, 16]) torch.Size([]) torch.Size([256, 16]) torch.Size([256])\n",
      "torch.Size([256, 16]) torch.Size([]) torch.Size([256, 16]) torch.Size([256])\n",
      "torch.Size([256, 16]) torch.Size([]) torch.Size([256, 16]) torch.Size([256])\n"
     ]
    }
   ],
   "source": [
    "for i, (x, y, z, a) in enumerate(dataset):\n",
    "    print(x.shape, y.shape, z.shape, a.shape)\n",
    "    if i > 10:\n",
    "        break"
   ]
  },
  {
   "cell_type": "code",
   "execution_count": 13,
   "metadata": {},
   "outputs": [
    {
     "name": "stdout",
     "output_type": "stream",
     "text": [
      "torch.Size([12, 256, 16]) torch.Size([12])\n"
     ]
    }
   ],
   "source": [
    "for i, (x, y, z, a) in enumerate(loader):\n",
    "    print(x.shape, y.shape)\n",
    "    break"
   ]
  },
  {
   "cell_type": "code",
   "execution_count": null,
   "metadata": {},
   "outputs": [],
   "source": []
  }
 ],
 "metadata": {
  "kernelspec": {
   "display_name": "general",
   "language": "python",
   "name": "python3"
  },
  "language_info": {
   "codemirror_mode": {
    "name": "ipython",
    "version": 3
   },
   "file_extension": ".py",
   "mimetype": "text/x-python",
   "name": "python",
   "nbconvert_exporter": "python",
   "pygments_lexer": "ipython3",
   "version": "3.10.11"
  }
 },
 "nbformat": 4,
 "nbformat_minor": 2
}
